{
 "cells": [
  {
   "cell_type": "markdown",
   "id": "a77eff25",
   "metadata": {},
   "source": [
    "# CHALLENGE 1\n",
    "## Line drawing\n",
    "### José Angel Tobón Salazar A01411655\n",
    "\n",
    "Para ejecutar:\n",
    "Seleccionar el bloque de código y usar Ctrl+Intro para comenzar.\n",
    "Ingresar e"
   ]
  },
  {
   "cell_type": "code",
   "execution_count": 43,
   "id": "8293354b",
   "metadata": {},
   "outputs": [
    {
     "name": "stdout",
     "output_type": "stream",
     "text": [
      "Type x1 y1: 1 2\n",
      "Type x2 y2: 5 10\n"
     ]
    },
    {
     "data": {
      "image/png": "[encoded data removed]",
      "text/plain": [
       "<Figure size 432x288 with 1 Axes>"
      ]
     },
     "metadata": {
      "needs_background": "light"
     },
     "output_type": "display_data"
    },
    {
     "name": "stdout",
     "output_type": "stream",
     "text": [
      "  X    Y\n",
      "(1.0,2.0)\n",
      "  X    Y\n",
      "(1.5,3.0)\n",
      "  X    Y\n",
      "(2.0,4.0)\n",
      "  X    Y\n",
      "(2.5,5.0)\n",
      "  X    Y\n",
      "(3.0,6.0)\n",
      "  X    Y\n",
      "(3.5,7.0)\n",
      "  X    Y\n",
      "(4.0,8.0)\n",
      "  X    Y\n",
      "(4.5,9.0)\n",
      "  X    Y\n",
      "(5.0,10.0)\n"
     ]
    }
   ],
   "source": [
    "from matplotlib import pyplot as plt\n",
    "\n",
    "def segment(x1, y1, x2, y2):\n",
    "    \n",
    "    xCoords = []\n",
    "    yCoords = []\n",
    "    \n",
    "    dx = abs(x1 - x2)\n",
    "    dy = abs(y1 - y2)\n",
    "    \n",
    "    paso = max(dx,dy)\n",
    "    \n",
    "    xMas = dx/paso\n",
    "    yMas = dy/paso\n",
    "    \n",
    "    x = float(x1)\n",
    "    y = float(y1)\n",
    "    \n",
    "    for i in range(paso):\n",
    "        xCoords.append(x)\n",
    "        yCoords.append(y)\n",
    "        \n",
    "        x = x + xMas\n",
    "        y = y + yMas\n",
    "        \n",
    "    xCoords.append(float(x2))\n",
    "    yCoords.append(float(y2))\n",
    "    \n",
    "    plt.plot(xCoords, yCoords, marker=\"o\", markersize=5, markerfacecolor=\"red\")\n",
    "    plt.show()\n",
    "    \n",
    "    for i in range(len(xCoords)):\n",
    "        print(\"  X    Y\")\n",
    "        print(\"(\" + str(xCoords[i]) + \",\" + str(yCoords[i]) +\")\")\n",
    "    \n",
    "if __name__ == \"__main__\":\n",
    "    \n",
    "    x1, y1 = map(int, input(\"Type x1 y1: \").split())\n",
    "    x2, y2 = map(int, input(\"Type x2 y2: \").split())\n",
    "    \n",
    "    segment(x1, y1, x2, y2)"
   ]
  },
  {
   "cell_type": "markdown",
   "id": "2558d437",
   "metadata": {},
   "source": [
    "Basado en el algoritmo DDA para la generación de lineas."
   ]
  }
 ],
 "metadata": {
  "kernelspec": {
   "display_name": "Python 3",
   "language": "python",
   "name": "python3"
  }
 },
 "nbformat": 4,
 "nbformat_minor": 5
}
