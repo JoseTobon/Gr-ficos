{
 "cells": [
  {
   "cell_type": "markdown",
   "id": "a77eff25",
   "metadata": {},
   "source": [
    "# CHALLENGE 1\n",
    "## Line drawing\n",
    "### José Angel Tobón Salazar A01411655"
   ]
  },
  {
   "cell_type": "code",
   "execution_count": null,
   "id": "8293354b",
   "metadata": {},
   "outputs": [],
   "source": [
    "from matplotlib import pyplot as plt\n",
    "\n",
    "def segment(x1, y1, x2, y2):\n",
    "    dx = abs(x1 - x2)\n",
    "    dy = abs(y1 - y2)\n",
    "    \n",
    "    paso = max(dx,dy)\n",
    "    \n",
    "    xMas = dx/paso\n",
    "    yMas = dy/paso\n",
    "    \n",
    "    x = float(x1)\n",
    "    y = float(y1)\n",
    "    \n",
    "    xCoords = []\n",
    "    yCoords = []\n",
    "    \n",
    "    for i in range(paso):\n",
    "        xCoords.append(x)\n",
    "        yCoords.append(y)\n",
    "        \n",
    "        x = x + xMas\n",
    "        y = y + yMas\n",
    "        \n",
    "    xCoords.append(float(x2))\n",
    "    yCoords.append(float(y2))\n",
    "    \n",
    "    plt.plot(xCoords, yCoords, marker=\"o\", markersize=4, markerfacecolor=\"green\")\n",
    "    plt.show()\n",
    "    \n",
    "    for i in range(len(xCoords)):\n",
    "        print(\"  X    Y\")\n",
    "        print(\"(\" + str(xCoords[i]) + \",\" + str(yCoords[i]) +\")\")\n",
    "    \n",
    "if __name__ == \"__main__\":\n",
    "    #x1, y1 = int(input(\"Type x1: \")), int(input(\"Type y1: \"))\n",
    "    x1, y1 = map(int, input().split())\n",
    "    x2, y2 = int(input(\"Type x2: \")), int(input(\"Type y2: \"))\n",
    "    \n",
    "    segment(x1, y1, x2, y2)"
   ]
  },
  {
   "cell_type": "markdown",
   "id": "2558d437",
   "metadata": {},
   "source": [
    "Basado en el algoritmo DDA para la generación de lineas."
   ]
  }
 ],
 "metadata": {
  "kernelspec": {
   "display_name": "Python 3",
   "language": "python",
   "name": "python3"
  },
  "language_info": {
   "codemirror_mode": {
    "name": "ipython",
    "version": 3
   },
   "file_extension": ".py",
   "mimetype": "text/x-python",
   "name": "python",
   "nbconvert_exporter": "python",
   "pygments_lexer": "ipython3",
   "version": "3.8.8"
  }
 },
 "nbformat": 4,
 "nbformat_minor": 5
}
